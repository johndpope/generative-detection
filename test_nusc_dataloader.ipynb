{
 "cells": [
  {
   "cell_type": "code",
   "execution_count": null,
   "metadata": {},
   "outputs": [],
   "source": [
    "import pickle as pkl\n",
    "from src.data.datasets.nuscenes import NuScenesPatchMini"
   ]
  },
  {
   "cell_type": "code",
   "execution_count": null,
   "metadata": {},
   "outputs": [],
   "source": [
    "with open('data/nuscenes/nuscenes_mini_infos_val.pkl', 'rb') as f:\n",
    "    nuscenes_mini_infos_val = pkl.load(f)"
   ]
  },
  {
   "cell_type": "code",
   "execution_count": null,
   "metadata": {},
   "outputs": [],
   "source": [
    "nusc_val_mini_data_kwargs = {\n",
    "    \"data_root\": \"data/nuscenes\",\n",
    "    \"ann_file\": \"nuscenes_mini_infos_val.pkl\",\n",
    "    \"pipeline\": [],\n",
    "    \"box_type_3d\": \"Camera\",\n",
    "    \"load_type\": \"frame_based\",\n",
    "    \"modality\": {\n",
    "        \"use_camera\": True, \n",
    "        \"use_lidar\": False},\n",
    "    \"filter_empty_gt\": False,\n",
    "    \"test_mode\": False,\n",
    "    \"with_velocity\": False,\n",
    "    \"use_valid_flag\": False,\n",
    "}\n",
    "\n",
    "\n",
    "nusc_val_mini_dataset = NuScenesPatchMini(**nusc_data_kwargs)"
   ]
  }
 ],
 "metadata": {
  "kernelspec": {
   "display_name": "gendetect2",
   "language": "python",
   "name": "python3"
  },
  "language_info": {
   "codemirror_mode": {
    "name": "ipython",
    "version": 3
   },
   "file_extension": ".py",
   "mimetype": "text/x-python",
   "name": "python",
   "nbconvert_exporter": "python",
   "pygments_lexer": "ipython3",
   "version": "3.10.14"
  }
 },
 "nbformat": 4,
 "nbformat_minor": 2
}
