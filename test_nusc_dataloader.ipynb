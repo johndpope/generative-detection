{
 "cells": [
  {
   "cell_type": "code",
   "execution_count": 2,
   "metadata": {},
   "outputs": [],
   "source": [
    "from src.data.datasets.nuscenes import NuScenesValidationMini, LABEL_ID2NAME\n",
    "import tqdm"
   ]
  },
  {
   "cell_type": "code",
   "execution_count": 3,
   "metadata": {},
   "outputs": [
    {
     "name": "stdout",
     "output_type": "stream",
     "text": [
      "04/14 19:06:49 - mmengine - \u001b[4m\u001b[97mINFO\u001b[0m - ------------------------------\n",
      "04/14 19:06:49 - mmengine - \u001b[4m\u001b[97mINFO\u001b[0m - The length of training dataset: 486\n",
      "04/14 19:06:49 - mmengine - \u001b[4m\u001b[97mINFO\u001b[0m - The number of instances per category in the dataset:\n",
      "+----------------------+--------+\n",
      "| category             | number |\n",
      "+----------------------+--------+\n",
      "| car                  | 2568   |\n",
      "| truck                | 124    |\n",
      "| trailer              | 0      |\n",
      "| bus                  | 41     |\n",
      "| construction_vehicle | 0      |\n",
      "| bicycle              | 52     |\n",
      "| motorcycle           | 259    |\n",
      "| pedestrian           | 1358   |\n",
      "| traffic_cone         | 39     |\n",
      "| barrier              | 0      |\n",
      "+----------------------+--------+\n",
      "Using label names: ['car', 'pedestrian'], label ids: [0, 7]\n"
     ]
    }
   ],
   "source": [
    "nusc_base_kwargs = {\n",
    "    \"label_names\": ['car', 'pedestrian'],\n",
    "    \"data_root\": \"data/nuscenes\",\n",
    "    \"pipeline\": [],\n",
    "    \"box_type_3d\": \"Camera\",\n",
    "    \"load_type\": 'frame_based',\n",
    "    \"modality\": dict(use_camera=True,use_lidar=False),\n",
    "    \"filter_empty_gt\": False,\n",
    "    \"test_mode\": False,\n",
    "    \"with_velocity\": False,\n",
    "    \"use_valid_flag\": False,\n",
    "}\n",
    "\n",
    "nusc_val = NuScenesValidationMini(**nusc_base_kwargs)"
   ]
  },
  {
   "cell_type": "code",
   "execution_count": 4,
   "metadata": {},
   "outputs": [
    {
     "name": "stderr",
     "output_type": "stream",
     "text": [
      "Car instances: 3291, Total instances: 4820, Current instance: 0: 100%|██████████| 486/486 [00:37<00:00, 14.72it/s]"
     ]
    },
    {
     "name": "stdout",
     "output_type": "stream",
     "text": [
      "{0: 3292, 1: 0, 2: 0, 3: 0, 4: 0, 5: 0, 6: 0, 7: 1529, 8: 0, 9: 0}\n"
     ]
    }
   ],
   "source": [
    "num_car_instances = 0\n",
    "num_instances = 0\n",
    "pbar = tqdm.tqdm(total=len(nusc_val))\n",
    "instance_counts = {k: 0 for k in LABEL_ID2NAME.keys()}\n",
    "for sample_idx, sample in enumerate(nusc_val):\n",
    "    \n",
    "    for cam_instance in sample.cam_instances:\n",
    "        instance_counts[cam_instance.bbox_label] += 1\n",
    "        \n",
    "        pbar.set_description(f\"Car instances: {num_car_instances}, Total instances: {num_instances}, Current instance: {cam_instance.bbox_label}\")\n",
    "        num_instances += 1\n",
    "        if cam_instance.bbox_label == 0:\n",
    "            num_car_instances += 1\n",
    "    pbar.update(1)\n",
    "print(instance_counts)\n"
   ]
  },
  {
   "cell_type": "code",
   "execution_count": 5,
   "metadata": {},
   "outputs": [
    {
     "data": {
      "text/plain": [
       "{0: 3292, 1: 0, 2: 0, 3: 0, 4: 0, 5: 0, 6: 0, 7: 1529, 8: 0, 9: 0}"
      ]
     },
     "execution_count": 5,
     "metadata": {},
     "output_type": "execute_result"
    }
   ],
   "source": [
    "instance_counts"
   ]
  },
  {
   "cell_type": "code",
   "execution_count": 6,
   "metadata": {},
   "outputs": [
    {
     "name": "stderr",
     "output_type": "stream",
     "text": [
      "Car instances: 3291, Total instances: 4820, Current instance: 0: 100%|██████████| 486/486 [00:37<00:00, 13.00it/s]\n",
      "Sample 485, Camera 10, Label: 0, Patch shape: (176, 45, 3): 100%|██████████| 486/486 [00:25<00:00, 19.40it/s]\n"
     ]
    },
    {
     "name": "stdout",
     "output_type": "stream",
     "text": [
      "Done\n"
     ]
    }
   ],
   "source": [
    "pbar = tqdm.tqdm(nusc_val)\n",
    "for i, sample in enumerate(pbar):\n",
    "    for cam_instance_idx, cam_instance in enumerate(sample.cam_instances):\n",
    "        pbar.set_description(f\"Sample {i}, Camera {cam_instance_idx}, Label: {cam_instance.bbox_label}, Patch shape: {cam_instance.patch.shape}\")\n",
    "print(\"Done\")"
   ]
  }
 ],
 "metadata": {
  "kernelspec": {
   "display_name": "gendetect2",
   "language": "python",
   "name": "python3"
  },
  "language_info": {
   "codemirror_mode": {
    "name": "ipython",
    "version": 3
   },
   "file_extension": ".py",
   "mimetype": "text/x-python",
   "name": "python",
   "nbconvert_exporter": "python",
   "pygments_lexer": "ipython3",
   "version": "3.10.14"
  }
 },
 "nbformat": 4,
 "nbformat_minor": 2
}
