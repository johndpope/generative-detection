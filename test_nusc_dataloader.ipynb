{
 "cells": [
  {
   "cell_type": "code",
   "execution_count": 8,
   "metadata": {},
   "outputs": [],
   "source": [
    "from mmdet3d.datasets.nuscenes_dataset import NuScenesDataset as MMDetNuScenesDataset\n",
    "from torch.utils.data import Dataset\n",
    "from src.util.misc import EasyDict as edict\n",
    "import cv2\n",
    "import os"
   ]
  },
  {
   "cell_type": "code",
   "execution_count": 9,
   "metadata": {},
   "outputs": [],
   "source": [
    "LABEL_ID2NAME = {\n",
    "    0: 'unlabeled',\n",
    "    1: 'barrier',\n",
    "    2: 'bicycle',\n",
    "    3: 'bus',\n",
    "    4: 'car',\n",
    "    5: 'construction-vehicle',\n",
    "    6: 'motorcycle',\n",
    "    7: 'pedestrian',\n",
    "    8: 'traffic-cone',\n",
    "    9: 'trailer',\n",
    "    10: 'truck',\n",
    "    11: 'driveable-surface',\n",
    "    12: 'other-ground',\n",
    "    13: 'sidewalk',\n",
    "    14: 'terrain',\n",
    "    15: 'manmade',\n",
    "    16: 'vegetation'\n",
    "}    \n",
    "LABEL_NAME2ID = {v: k for k, v in LABEL_ID2NAME.items()}"
   ]
  },
  {
   "cell_type": "code",
   "execution_count": 10,
   "metadata": {},
   "outputs": [],
   "source": [
    "CAM_NAMESPACE = 'CAM'\n",
    "CAMERAS = [\"FRONT\", \"FRONT_RIGHT\", \"FRONT_LEFT\", \"BACK\", \"BACK_LEFT\", \"BACK_RIGHT\"]\n",
    "CAMERA_NAMES = [f\"{CAM_NAMESPACE}_{camera}\" for camera in CAMERAS]\n",
    "CAM_NAME2CAM_ID = {cam_name: i for i, cam_name in enumerate(CAMERA_NAMES)}\n",
    "CAM_ID2CAM_NAME = {i: cam_name for i, cam_name in enumerate(CAMERA_NAMES)}"
   ]
  },
  {
   "cell_type": "code",
   "execution_count": 34,
   "metadata": {},
   "outputs": [],
   "source": [
    "class NuScenesCameraInstances(Dataset):\n",
    "    def __init__(self, cam_instances, img_path):\n",
    "        \n",
    "        self.cam_instances = cam_instances\n",
    "        self.img_path = img_path\n",
    "        self.patches = self._generate_patches()\n",
    "    def __len__(self):\n",
    "        return len(self.cam_instances)\n",
    "    \n",
    "    def _generate_patches(self):\n",
    "        # load image from path\n",
    "        patches = []\n",
    "        img = cv2.imread(self.img_path)\n",
    "        if img is None:\n",
    "            # if instances present but file not found, raise error. else return empty list\n",
    "            if self.__len__() > 0:\n",
    "                raise FileNotFoundError(f\"Image not found at {self.img_path} but {self.__len__()} instances are present\")\n",
    "            else:\n",
    "                return []\n",
    " \n",
    "        # return croped list of images as defined by 2d bbox for each instance\n",
    "        for cam_instance in self.cam_instances:\n",
    "            bbox = cam_instance.bbox # 2D bounding box annotation (exterior rectangle of the projected 3D box), a list arrange as [x1, y1, x2, y2].\n",
    "            x1, y1, x2, y2 = bbox\n",
    "            try:\n",
    "                x1, y1, x2, y2 = int(x1), int(y1), int(x2), int(y2)\n",
    "                patch = img[y1:y2, x1:x2]\n",
    "            except Exception as e:\n",
    "                print(f\"Error in cropping image: {e}\")\n",
    "                # return full image if error occurs\n",
    "                patch = img\n",
    "            \n",
    "            patches.append(patch)\n",
    "        return patches\n",
    "  \n",
    "    def __getitem__(self, idx):\n",
    "        cam_instance = edict(self.cam_instances[idx])   \n",
    "        cam_instance.patch = self.patches[idx]\n",
    "        return cam_instance"
   ]
  },
  {
   "cell_type": "code",
   "execution_count": 35,
   "metadata": {},
   "outputs": [],
   "source": [
    "class NuScenesBase(MMDetNuScenesDataset):\n",
    "    def __init__(self, data_root, label_names, is_sweep=False, **kwargs):\n",
    "        self.data_root = data_root\n",
    "        self.img_root = os.path.join(data_root, \"samples\" if not is_sweep else \"sweeps\")\n",
    "        super().__init__(data_root=data_root, **kwargs)\n",
    "        self.label_names = label_names\n",
    "        self.label_ids = [LABEL_NAME2ID[label_name] for label_name in label_names]\n",
    "        print(f\"Using label names: {self.label_names}, label ids: {self.label_ids}\")\n",
    "    \n",
    "    def __len__(self):\n",
    "        self.num_samples = super().__len__()\n",
    "        self.num_cameras = len(CAMERA_NAMES)\n",
    "        return self.num_samples * self.num_cameras\n",
    "    \n",
    "    def __getitem__(self, idx):\n",
    "        ret = edict()\n",
    "        sample_idx = idx // self.num_cameras\n",
    "        cam_idx = idx % self.num_cameras\n",
    "        sample_info = edict(super().__getitem__(sample_idx))\n",
    "        cam_name = CAM_ID2CAM_NAME[cam_idx]\n",
    "        ret.sample_idx = sample_idx\n",
    "        ret.cam_idx = cam_idx\n",
    "        ret.cam_name = cam_name\n",
    "        sample_img_info = edict(sample_info.images[cam_name])\n",
    "        ret.update(sample_img_info)\n",
    "        cam_instances = sample_info.cam_instances[cam_name] # list of dicts for each instance in the current camera image\n",
    "        # filter out instances that are not in the label_names\n",
    "        cam_instances = [cam_instance for cam_instance in cam_instances if cam_instance['bbox_label'] in self.label_ids]\n",
    "        img_file = sample_img_info.img_path.split(\"/\")[-1]\n",
    "        ret.cam_instances = NuScenesCameraInstances(cam_instances=cam_instances, img_path=os.path.join(self.img_root, cam_name, img_file))\n",
    "        return ret"
   ]
  },
  {
   "cell_type": "code",
   "execution_count": 36,
   "metadata": {},
   "outputs": [
    {
     "name": "stdout",
     "output_type": "stream",
     "text": [
      "04/12 01:08:25 - mmengine - \u001b[4m\u001b[97mINFO\u001b[0m - ------------------------------\n",
      "04/12 01:08:25 - mmengine - \u001b[4m\u001b[97mINFO\u001b[0m - The length of training dataset: 36114\n",
      "04/12 01:08:25 - mmengine - \u001b[4m\u001b[97mINFO\u001b[0m - The number of instances per category in the dataset:\n",
      "+----------------------+--------+\n",
      "| category             | number |\n",
      "+----------------------+--------+\n",
      "| car                  | 80004  |\n",
      "| truck                | 15704  |\n",
      "| trailer              | 4159   |\n",
      "| bus                  | 3158   |\n",
      "| construction_vehicle | 2678   |\n",
      "| bicycle              | 2381   |\n",
      "| motorcycle           | 2508   |\n",
      "| pedestrian           | 34347  |\n",
      "| traffic_cone         | 15597  |\n",
      "| barrier              | 26992  |\n",
      "+----------------------+--------+\n",
      "Using label names: ['car'], label ids: [4]\n"
     ]
    }
   ],
   "source": [
    "# input dict\n",
    "nusc_base_kwargs = {\n",
    "    \"label_names\": [\"car\"],\n",
    "    \"data_root\": \"data/nuscenes\",\n",
    "    \"ann_file\": \"nuscenes_infos_val.pkl\",\n",
    "    \"pipeline\": [],\n",
    "    \"box_type_3d\": \"Camera\",\n",
    "    \"load_type\": 'frame_based',\n",
    "    \"modality\": dict(use_camera=True,use_lidar=False),\n",
    "    \"filter_empty_gt\": False,\n",
    "    \"test_mode\": False,\n",
    "    \"with_velocity\": False,\n",
    "    \"use_valid_flag\": False,\n",
    "}\n",
    "\n",
    "\n",
    "nusc_base = NuScenesBase(**nusc_base_kwargs)"
   ]
  },
  {
   "cell_type": "code",
   "execution_count": null,
   "metadata": {},
   "outputs": [],
   "source": [
    "import tqdm\n",
    "pbar = tqdm.tqdm(nusc_base)\n",
    "for i, sample in enumerate(pbar):\n",
    "    for cam_instance_idx, cam_instance in enumerate(sample.cam_instances):\n",
    "        pbar.set_description(f\"Sample {i}, Camera {cam_instance_idx}, Label: {cam_instance.bbox_label}, Patch shape: {cam_instance.patch.shape}\")\n",
    "print(\"Done\")"
   ]
  },
  {
   "cell_type": "code",
   "execution_count": 1,
   "metadata": {},
   "outputs": [
    {
     "name": "stdout",
     "output_type": "stream",
     "text": [
      "04/12 01:26:03 - mmengine - \u001b[4m\u001b[97mINFO\u001b[0m - ------------------------------\n",
      "04/12 01:26:03 - mmengine - \u001b[4m\u001b[97mINFO\u001b[0m - The length of training dataset: 36114\n",
      "04/12 01:26:03 - mmengine - \u001b[4m\u001b[97mINFO\u001b[0m - The number of instances per category in the dataset:\n",
      "+----------------------+--------+\n",
      "| category             | number |\n",
      "+----------------------+--------+\n",
      "| car                  | 80004  |\n",
      "| truck                | 15704  |\n",
      "| trailer              | 4159   |\n",
      "| bus                  | 3158   |\n",
      "| construction_vehicle | 2678   |\n",
      "| bicycle              | 2381   |\n",
      "| motorcycle           | 2508   |\n",
      "| pedestrian           | 34347  |\n",
      "| traffic_cone         | 15597  |\n",
      "| barrier              | 26992  |\n",
      "+----------------------+--------+\n",
      "Using label names: ['car'], label ids: [4]\n"
     ]
    }
   ],
   "source": [
    "from src.data.datasets.nuscenes import NuScenesValidation\n",
    "\n",
    "nusc_base_kwargs = {\n",
    "    \"label_names\": [\"car\"],\n",
    "    \"data_root\": \"data/nuscenes\",\n",
    "    \"pipeline\": [],\n",
    "    \"box_type_3d\": \"Camera\",\n",
    "    \"load_type\": 'frame_based',\n",
    "    \"modality\": dict(use_camera=True,use_lidar=False),\n",
    "    \"filter_empty_gt\": False,\n",
    "    \"test_mode\": False,\n",
    "    \"with_velocity\": False,\n",
    "    \"use_valid_flag\": False,\n",
    "}\n",
    "\n",
    "nusc_val = NuScenesValidation(**nusc_base_kwargs)"
   ]
  },
  {
   "cell_type": "code",
   "execution_count": null,
   "metadata": {},
   "outputs": [],
   "source": [
    "import tqdm\n",
    "pbar = tqdm.tqdm(nusc_val)\n",
    "for i, sample in enumerate(pbar):\n",
    "    for cam_instance_idx, cam_instance in enumerate(sample.cam_instances):\n",
    "        pbar.set_description(f\"Sample {i}, Camera {cam_instance_idx}, Label: {cam_instance.bbox_label}, Patch shape: {cam_instance.patch.shape}\")\n",
    "print(\"Done\")"
   ]
  }
 ],
 "metadata": {
  "kernelspec": {
   "display_name": "gendetect2",
   "language": "python",
   "name": "python3"
  },
  "language_info": {
   "codemirror_mode": {
    "name": "ipython",
    "version": 3
   },
   "file_extension": ".py",
   "mimetype": "text/x-python",
   "name": "python",
   "nbconvert_exporter": "python",
   "pygments_lexer": "ipython3",
   "version": "3.10.14"
  }
 },
 "nbformat": 4,
 "nbformat_minor": 2
}
