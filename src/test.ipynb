{
 "cells": [
  {
   "cell_type": "code",
   "execution_count": 44,
   "metadata": {},
   "outputs": [],
   "source": [
    "import torch\n",
    "import matplotlib.pyplot as plt\n",
    "from matplotlib.patches import Rectangle\n",
    "from typing import List, Tuple\n",
    "from pytorch3d.renderer.cameras import get_screen_to_ndc_transform, get_ndc_to_screen_transform\n",
    "from src.util.cameras import PatchPerspectiveCameras, get_patch_ndc_to_ndc_transform, get_ndc_to_patch_ndc_transform"
   ]
  },
  {
   "cell_type": "code",
   "execution_count": 2,
   "metadata": {},
   "outputs": [],
   "source": [
    "# repeat sample image batch_size times with different patches of different sizes\n",
    "image_size = [(256, 256), (128, 64), (64, 128), (32, 32)]\n",
    "patch_size = [(64, 64), (32, 32), (16, 16), (8, 8)]\n",
    "\n",
    "# wrt the center of the full image in pixels\n",
    "patch_center = [(0, 0), (0, 0), (0, 0), (0, 0)]\n",
    "\n",
    "cam_kwargs = {\n",
    "    \"znear\": 0.0,\n",
    "    \"zfar\": 80.0,\n",
    "    \"focal_length\": 1.0,\n",
    "    \"principal_point\": ((0.0, 0.0),),\n",
    "    \"R\": torch.eye(3).unsqueeze(0),\n",
    "    \"T\": torch.zeros(1, 3),\n",
    "    \"device\": \"cpu\",\n",
    "    \"in_ndc\": False,\n",
    "    \"image_size\": image_size\n",
    "    }\n",
    "\n",
    "cam = PatchPerspectiveCameras(**cam_kwargs)"
   ]
  },
  {
   "cell_type": "code",
   "execution_count": 3,
   "metadata": {},
   "outputs": [
    {
     "data": {
      "text/plain": [
       "4"
      ]
     },
     "execution_count": 3,
     "metadata": {},
     "output_type": "execute_result"
    }
   ],
   "source": [
    "len(cam.get_ndc_camera_transform(**cam_kwargs))"
   ]
  },
  {
   "cell_type": "code",
   "execution_count": 4,
   "metadata": {},
   "outputs": [],
   "source": [
    "world_to_patch_ndc_transform = cam.get_patch_projection_transform(patch_size, patch_center, **cam_kwargs)"
   ]
  },
  {
   "cell_type": "code",
   "execution_count": 5,
   "metadata": {},
   "outputs": [],
   "source": [
    "patch_ndc_to_world_transform = world_to_patch_ndc_transform.inverse()"
   ]
  },
  {
   "cell_type": "code",
   "execution_count": 6,
   "metadata": {},
   "outputs": [],
   "source": [
    "X_patch_ndc = torch.tensor([[0.5, 0.5, 1.0], [0.25, 0.25, 1.0], [0.75, 0.75, 1.0], [1., 1., 1.0]])\n",
    "X_world = patch_ndc_to_world_transform.transform_points(X_patch_ndc)"
   ]
  },
  {
   "cell_type": "code",
   "execution_count": 7,
   "metadata": {},
   "outputs": [],
   "source": [
    "world_to_patch_ndc_transform = cam.get_patch_projection_transform(patch_size, patch_center, **cam_kwargs)"
   ]
  },
  {
   "cell_type": "code",
   "execution_count": 8,
   "metadata": {},
   "outputs": [],
   "source": [
    "X_patch_ndc = world_to_patch_ndc_transform.transform_points(X_world)  "
   ]
  },
  {
   "cell_type": "code",
   "execution_count": 32,
   "metadata": {},
   "outputs": [],
   "source": [
    "# repeat sample image batch_size times with different patches of different sizes\n",
    "image_size = [(256, 256)]\n",
    "patch_size = [(64, 64)]\n",
    "\n",
    "# wrt the center of the full image in pixels\n",
    "patch_center = [(0, 0)]\n",
    "\n",
    "cam_kwargs = {\n",
    "    \"znear\": 0.0,\n",
    "    \"zfar\": 80.0,\n",
    "    \"focal_length\": 1.0,\n",
    "    \"principal_point\": ((0.0, 0.0),),\n",
    "    \"R\": torch.eye(3).unsqueeze(0),\n",
    "    \"T\": torch.zeros(1, 3),\n",
    "    \"device\": \"cpu\",\n",
    "    \"in_ndc\": False,\n",
    "    \"image_size\": image_size\n",
    "    }\n",
    "\n",
    "cam = PatchPerspectiveCameras(**cam_kwargs)"
   ]
  },
  {
   "cell_type": "code",
   "execution_count": 42,
   "metadata": {},
   "outputs": [],
   "source": [
    "# topleft, topcenter, topright, midleft, midcenter, midright, botleft, botcenter, botright\n",
    "patch_ndc_points = [(1.0, 1.0, 1.0), (0.5, 1.0, 1.0), (0.0, 1.0, 1.0),\n",
    "                    (1.0, 0.5, 1.0), (0.5, 0.5, 1.0), (0.0, 0.5, 1.0),\n",
    "                    (1.0, 0.0, 1.0), (0.5, 0.0, 1.0), (0.0, 0.0, 1.0)]"
   ]
  },
  {
   "cell_type": "code",
   "execution_count": 43,
   "metadata": {},
   "outputs": [
    {
     "data": {
      "text/plain": [
       "tensor([[0.4444, 0.4444, 0.1111],\n",
       "        [0.2857, 0.5714, 0.1429],\n",
       "        [0.0000, 0.8000, 0.2000],\n",
       "        [0.5714, 0.2857, 0.1429],\n",
       "        [0.4000, 0.4000, 0.2000],\n",
       "        [0.0000, 0.6667, 0.3333],\n",
       "        [0.8000, 0.0000, 0.2000],\n",
       "        [0.6667, 0.0000, 0.3333],\n",
       "        [0.0000, 0.0000, 1.0000]])"
      ]
     },
     "execution_count": 43,
     "metadata": {},
     "output_type": "execute_result"
    }
   ],
   "source": [
    "patch_ndc_to_ndc_transform = get_patch_ndc_to_ndc_transform(cameras=cam, \n",
    "                                                            image_size=image_size, \n",
    "                                                            patch_size=patch_size, \n",
    "                                                            patch_center=patch_center)\n",
    "ndc_points = patch_ndc_to_ndc_transform.transform_points(torch.tensor(patch_ndc_points))\n",
    "ndc_points"
   ]
  },
  {
   "cell_type": "code",
   "execution_count": 53,
   "metadata": {},
   "outputs": [
    {
     "data": {
      "text/plain": [
       "tensor([[1.0000, 1.0000, 1.0000],\n",
       "        [0.5000, 1.0000, 1.0000],\n",
       "        [0.0000, 1.0000, 1.0000],\n",
       "        [1.0000, 0.5000, 1.0000],\n",
       "        [0.5000, 0.5000, 1.0000],\n",
       "        [0.0000, 0.5000, 1.0000],\n",
       "        [1.0000, 0.0000, 1.0000],\n",
       "        [0.5000, 0.0000, 1.0000],\n",
       "        [0.0000, 0.0000, 1.0000]])"
      ]
     },
     "execution_count": 53,
     "metadata": {},
     "output_type": "execute_result"
    }
   ],
   "source": [
    "patch_ndc_revert_transform = get_ndc_to_patch_ndc_transform(cameras=cam,\n",
    "                                                            image_size=image_size, \n",
    "                                                            patch_size=patch_size, \n",
    "                                                            patch_center=patch_center)\n",
    "patch_ndc_points_revert = patch_ndc_revert_transform.transform_points(ndc_points)\n",
    "patch_ndc_points_revert"
   ]
  },
  {
   "cell_type": "code",
   "execution_count": 50,
   "metadata": {},
   "outputs": [
    {
     "data": {
      "text/plain": [
       "tensor([[1.0035, 1.0035, 0.1111],\n",
       "        [1.0022, 1.0045, 0.1429],\n",
       "        [1.0000, 1.0063, 0.2000],\n",
       "        [1.0045, 1.0022, 0.1429],\n",
       "        [1.0031, 1.0031, 0.2000],\n",
       "        [1.0000, 1.0052, 0.3333],\n",
       "        [1.0063, 1.0000, 0.2000],\n",
       "        [1.0052, 1.0000, 0.3333],\n",
       "        [1.0000, 1.0000, 1.0000]])"
      ]
     },
     "execution_count": 50,
     "metadata": {},
     "output_type": "execute_result"
    }
   ],
   "source": [
    "ndc_to_screen_transform = get_screen_to_ndc_transform(cameras=cam, image_size=image_size)\n",
    "screen_points = ndc_to_screen_transform.transform_points(ndc_points)       \n",
    "screen_points                                        "
   ]
  },
  {
   "cell_type": "code",
   "execution_count": 51,
   "metadata": {},
   "outputs": [],
   "source": [
    "screen_to_world_transform = cam.unproject_points(screen_points)"
   ]
  },
  {
   "cell_type": "code",
   "execution_count": 52,
   "metadata": {},
   "outputs": [
    {
     "data": {
      "text/plain": [
       "tensor([[0.1115, 0.1115, 0.1111],\n",
       "        [0.1432, 0.1435, 0.1429],\n",
       "        [0.2000, 0.2013, 0.2000],\n",
       "        [0.1435, 0.1432, 0.1429],\n",
       "        [0.2006, 0.2006, 0.2000],\n",
       "        [0.3333, 0.3351, 0.3333],\n",
       "        [0.2013, 0.2000, 0.2000],\n",
       "        [0.3351, 0.3333, 0.3333],\n",
       "        [1.0000, 1.0000, 1.0000]])"
      ]
     },
     "execution_count": 52,
     "metadata": {},
     "output_type": "execute_result"
    }
   ],
   "source": [
    "screen_to_world_transform"
   ]
  }
 ],
 "metadata": {
  "kernelspec": {
   "display_name": "gen-detection",
   "language": "python",
   "name": "python3"
  },
  "language_info": {
   "codemirror_mode": {
    "name": "ipython",
    "version": 3
   },
   "file_extension": ".py",
   "mimetype": "text/x-python",
   "name": "python",
   "nbconvert_exporter": "python",
   "pygments_lexer": "ipython3",
   "version": "3.8.5"
  }
 },
 "nbformat": 4,
 "nbformat_minor": 2
}
