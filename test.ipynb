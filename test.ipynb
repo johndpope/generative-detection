{
 "cells": [
  {
   "cell_type": "code",
   "execution_count": 8,
   "metadata": {},
   "outputs": [],
   "source": [
    "from pytorch3d.transforms import euler_angles_to_matrix, matrix_to_euler_angles, se3_log_map, se3_exp_map\n",
    "import torch\n",
    "import math\n",
    "from src.util.cameras import PatchPerspectiveCameras as PatchCameras"
   ]
  },
  {
   "cell_type": "code",
   "execution_count": 12,
   "metadata": {},
   "outputs": [],
   "source": [
    "focal_length = torch.tensor([-1252.8131])\n",
    "principal_point = torch.tensor([[826.5881, 469.9846]])\n",
    "image_size = torch.tensor([[900, 1600]])\n",
    "camera = PatchCameras(focal_length=focal_length,\n",
    "            principal_point=principal_point,\n",
    "            znear=0,\n",
    "            zfar=80,\n",
    "            device=\"cuda\" if torch.cuda.is_available() else \"cpu\",\n",
    "            image_size=image_size)"
   ]
  },
  {
   "cell_type": "code",
   "execution_count": 16,
   "metadata": {},
   "outputs": [
    {
     "name": "stdout",
     "output_type": "stream",
     "text": [
      "screen_to_ndc_transform in cameras tensor([[[ 0.0022,  0.0000,  0.0000,  0.0000],\n",
      "         [ 0.0000,  0.0022,  0.0000,  0.0000],\n",
      "         [ 0.0000,  0.0000,  1.0000,  0.0000],\n",
      "         [-1.8959, -1.0888,  0.0000,  1.0000]]])\n",
      "cx_screen tensor([[967.3616]]) torch.Size([1, 1])\n",
      "point_screen tensor([[967.3616, 491.6377,   1.0000]]) torch.Size([1, 3])\n",
      "cx_ndc tensor([0.2537]) torch.Size([1])\n",
      "cy_ndc tensor([0.0037]) torch.Size([1])\n",
      "principal_point in cameras tensor([[826.5881, 469.9846]])\n",
      "scale tensor([900.])\n",
      "patch_scale tensor([256.])\n",
      "tx tensor([0.2537])\n",
      "ty tensor([0.0037])\n"
     ]
    }
   ],
   "source": [
    "# add v1, v2, v3 to bbox_means and bbox_logvars\n",
    "yaw_std = torch.tensor([math.pi])\n",
    "# pitch and roll are always zero\n",
    "# XYZ convention: \n",
    "\n",
    "euler_mean = torch.tensor([0., 0., 0.], dtype=torch.float32)\n",
    "euler_std = torch.tensor([0., yaw_std, 0.], dtype=torch.float32)\n",
    "\n",
    "convention = \"XYZ\"\n",
    "\n",
    "R_mean = euler_angles_to_matrix(euler_mean, convention)\n",
    "R_std = euler_angles_to_matrix(euler_std, convention)\n",
    "\n",
    "patch_size = torch.tensor([256, 256], dtype=torch.float32)\n",
    "    \n",
    "patch_center = torch.tensor([967.3616, 491.6377], dtype=torch.float32)\n",
    "world_to_patch_transform = camera.get_patch_projection_transform(patch_size=patch_size, patch_center=patch_center)\n",
    "\n",
    "# R_mean_patch = world_to_patch_transform.transform_normals(normals=R_mean) # TODO: Inverting error\n",
    "# R_std_patch = world_to_patch_transform.transform_normals(normals=R_std) # TODO: Inverting error\n",
    "R_patch_mean = R_mean # TODO: R should be in patch NDC\n",
    "R_patch_std = R_std # TODO: R should be in patch NDC\n",
    "\n",
    "translation = torch.tensor([0., 0., 0.], dtype=torch.float32)\n",
    "# A SE(3) matrix has the following form: ` [ R 0 ] [ T 1 ] , `\n",
    "se3_exp_map_matrix_mean = torch.eye(4)\n",
    "se3_exp_map_matrix_mean[:3, :3] = R_patch_mean\n",
    "se3_exp_map_matrix_mean[:3, 3] = translation\n",
    "\n",
    "se3_exp_map_matrix_std = torch.eye(4)\n",
    "se3_exp_map_matrix_std[:3, :3] = R_patch_std\n",
    "se3_exp_map_matrix_std[:3, 3] = translation\n",
    "\n",
    "# form must be ` [ R 0 ] [ T 1 ] , ` so need to transpose\n",
    "se3_exp_map_matrix_mean = se3_exp_map_matrix_mean.T\n",
    "se3_exp_map_matrix_std = se3_exp_map_matrix_std.T\n",
    "\n",
    "# add batch dim if not present\n",
    "if se3_exp_map_matrix_mean.dim() == 2:\n",
    "    se3_exp_map_matrix_mean = se3_exp_map_matrix_mean.unsqueeze(0)\n",
    "    \n",
    "if se3_exp_map_matrix_std.dim() == 2:\n",
    "    se3_exp_map_matrix_std = se3_exp_map_matrix_std.unsqueeze(0)\n",
    "\n",
    "pose_6d_mean = se3_log_map(se3_exp_map_matrix_mean) # 6d vector\n",
    "pose_6d_std = se3_log_map(se3_exp_map_matrix_std) # 6d vector"
   ]
  },
  {
   "cell_type": "code",
   "execution_count": 18,
   "metadata": {},
   "outputs": [
    {
     "data": {
      "text/plain": [
       "(tensor([[0., 0., 0., 0., 0., 0.]]),\n",
       " tensor([[ 0.0000e+00,  0.0000e+00,  0.0000e+00,  0.0000e+00, -3.8761e-05,\n",
       "           0.0000e+00]]))"
      ]
     },
     "execution_count": 18,
     "metadata": {},
     "output_type": "execute_result"
    }
   ],
   "source": [
    "pose_6d_mean, pose_6d_std"
   ]
  }
 ],
 "metadata": {
  "kernelspec": {
   "display_name": "inrdetect4",
   "language": "python",
   "name": "python3"
  },
  "language_info": {
   "codemirror_mode": {
    "name": "ipython",
    "version": 3
   },
   "file_extension": ".py",
   "mimetype": "text/x-python",
   "name": "python",
   "nbconvert_exporter": "python",
   "pygments_lexer": "ipython3",
   "version": "3.10.14"
  }
 },
 "nbformat": 4,
 "nbformat_minor": 2
}
