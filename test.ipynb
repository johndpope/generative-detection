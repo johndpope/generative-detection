{
 "cells": [
  {
   "cell_type": "code",
   "execution_count": 1,
   "metadata": {},
   "outputs": [],
   "source": [
    "import numpy as np\n",
    "import torch\n",
    "import matplotlib.pyplot as plt\n",
    "from matplotlib.patches import Rectangle\n",
    "from typing import List, Tuple\n",
    "from pytorch3d.renderer.cameras import get_screen_to_ndc_transform, get_ndc_to_screen_transform\n",
    "from src.util.cameras import PatchPerspectiveCameras, get_patch_ndc_to_ndc_transform, get_ndc_to_patch_ndc_transform"
   ]
  },
  {
   "cell_type": "code",
   "execution_count": 2,
   "metadata": {},
   "outputs": [],
   "source": [
    "# repeat sample image batch_size times with different patches of different sizes\n",
    "image_size = [(256, 256), (128, 64), (64, 128), (32, 32)]\n",
    "patch_size = [(64, 64), (32, 32), (16, 16), (8, 8)]\n",
    "\n",
    "# wrt the center of the full image in pixels\n",
    "patch_center = [(0, 0), (0, 0), (0, 0), (0, 0)]\n",
    "\n",
    "cam_kwargs = {\n",
    "    \"znear\": 0.0,\n",
    "    \"zfar\": 80.0,\n",
    "    \"focal_length\": 10.0,\n",
    "    \"principal_point\": ((0.0, 0.0),),\n",
    "    \"R\": torch.eye(3).unsqueeze(0),\n",
    "    \"T\": torch.zeros(1, 3),\n",
    "    \"device\": \"cpu\",\n",
    "    \"in_ndc\": False,\n",
    "    \"image_size\": image_size\n",
    "    }\n",
    "\n",
    "cam = PatchPerspectiveCameras(**cam_kwargs)"
   ]
  },
  {
   "cell_type": "code",
   "execution_count": 3,
   "metadata": {},
   "outputs": [
    {
     "data": {
      "text/plain": [
       "4"
      ]
     },
     "execution_count": 3,
     "metadata": {},
     "output_type": "execute_result"
    }
   ],
   "source": [
    "len(cam.get_ndc_camera_transform(**cam_kwargs))"
   ]
  },
  {
   "cell_type": "code",
   "execution_count": 4,
   "metadata": {},
   "outputs": [],
   "source": [
    "world_to_patch_ndc_transform = cam.get_patch_projection_transform(patch_size, patch_center, **cam_kwargs)"
   ]
  },
  {
   "cell_type": "code",
   "execution_count": 5,
   "metadata": {},
   "outputs": [],
   "source": [
    "patch_ndc_to_world_transform = world_to_patch_ndc_transform.inverse()"
   ]
  },
  {
   "cell_type": "code",
   "execution_count": 6,
   "metadata": {},
   "outputs": [],
   "source": [
    "X_patch_ndc = torch.tensor([[0.5, 0.5, 1.0], [0.25, 0.25, 1.0], [0.75, 0.75, 1.0], [1., 1., 1.0]])\n",
    "X_world = patch_ndc_to_world_transform.transform_points(X_patch_ndc)"
   ]
  },
  {
   "cell_type": "code",
   "execution_count": 7,
   "metadata": {},
   "outputs": [],
   "source": [
    "world_to_patch_ndc_transform = cam.get_patch_projection_transform(patch_size, patch_center, **cam_kwargs)"
   ]
  },
  {
   "cell_type": "code",
   "execution_count": 8,
   "metadata": {},
   "outputs": [],
   "source": [
    "X_patch_ndc = world_to_patch_ndc_transform.transform_points(X_world)  "
   ]
  },
  {
   "cell_type": "code",
   "execution_count": 9,
   "metadata": {},
   "outputs": [],
   "source": [
    "# repeat sample image batch_size times with different patches of different sizes\n",
    "image_size = [(256, 256)]\n",
    "patch_size = [(128, 128)]\n",
    "# wrt corner of the full image in pixels\n",
    "patch_center = [(64, 64)]\n",
    "\n",
    "znear = 0.0\n",
    "zfar = 80.0\n",
    "fov = np.deg2rad(60.0)\n",
    "\n",
    "focal_length = image_size[0][0] / (2.0 * np.tan(fov / 2.0)) # focal length in pixels\n",
    "\n",
    "cam_kwargs = {\n",
    "    \"znear\": znear,\n",
    "    \"zfar\": zfar,\n",
    "    \"focal_length\": focal_length,\n",
    "    \"principal_point\": ((0.0, 0.0),),\n",
    "    \"R\": torch.eye(3).unsqueeze(0),\n",
    "    \"T\": torch.zeros(1, 3),\n",
    "    \"device\": \"cpu\",\n",
    "    \"in_ndc\": False,\n",
    "    \"image_size\": image_size\n",
    "    }\n",
    "\n",
    "cam = PatchPerspectiveCameras(**cam_kwargs)"
   ]
  },
  {
   "cell_type": "code",
   "execution_count": 10,
   "metadata": {},
   "outputs": [],
   "source": [
    "# # topleft, topcenter, topright, midleft, midcenter, midright, botleft, botcenter, botright (-1,-1, 1) to (1, 1, 1)\n",
    "# patch_ndc_points = [(-1.0, -1.0, 1.0),\n",
    "#                     (0.0, -1.0, 1.0),\n",
    "#                     (1.0, -1.0, 1.0),\n",
    "#                     (-1.0, 0.0, 1.0),\n",
    "#                     (0.0, 0.0, 1.0),\n",
    "#                     (1.0, 0.0, 1.0),\n",
    "#                     (-1.0, 1.0, 1.0),\n",
    "#                     (0.0, 1.0, 1.0),\n",
    "#                     (1.0, 1.0, 1.0)]\n",
    "\n",
    "patch_ndc_points = [\n",
    "    (-1.0, -1.0, 10.0),\n",
    "    (1.0, 1.0, 60.0),\n",
    "    (0.0, 0.0, 20.0),\n",
    "    (-0.5, -0.5, 40.0),\n",
    "    ]\n",
    "\n",
    "expected_ndc = [\n",
    "    (0.0, 0.0, 10.0),\n",
    "    (1.0, 1.0, 60.0),\n",
    "    (0.5, 0.5, 20.0),\n",
    "    (0.25, 0.25, 40.0),\n",
    "    ]\n",
    "\n",
    "expected_screen = [\n",
    "    (128.0, 128.0, 10.0),\n",
    "    (0.0, 0.0, 60.0),\n",
    "    (64, 64, 20.0),\n",
    "    (96, 96, 40.0),\n",
    "    ]\n"
   ]
  },
  {
   "cell_type": "code",
   "execution_count": 11,
   "metadata": {},
   "outputs": [
    {
     "data": {
      "text/plain": [
       "tensor([[-1.0000, -1.0000, 10.0000],\n",
       "        [ 0.0000,  0.0000, 60.0000],\n",
       "        [-0.5000, -0.5000, 20.0000],\n",
       "        [-0.7500, -0.7500, 40.0000]])"
      ]
     },
     "execution_count": 11,
     "metadata": {},
     "output_type": "execute_result"
    }
   ],
   "source": [
    "patch_ndc_to_ndc_transform = get_patch_ndc_to_ndc_transform(cameras=cam, \n",
    "                                                            image_size=image_size, \n",
    "                                                            patch_size=patch_size, \n",
    "                                                            patch_center=patch_center)\n",
    "ndc_points = patch_ndc_to_ndc_transform.transform_points(torch.tensor(patch_ndc_points))\n",
    "\n",
    "# patch_ndc_to_ndc_transform.matrix\n",
    "# ndc_points[..., -1] = -((ndc_points[..., -1] + 1.0)/2.0 * (znear-zfar) + znear)  \n",
    "\n",
    "\n",
    "ndc_points\n",
    "# patch_ndc_to_ndc_transform.get_matrix()"
   ]
  },
  {
   "cell_type": "code",
   "execution_count": 12,
   "metadata": {},
   "outputs": [
    {
     "data": {
      "text/plain": [
       "tensor([[-1.0000, -1.0000, 10.0000],\n",
       "        [ 1.0000,  1.0000, 60.0000],\n",
       "        [ 0.0000,  0.0000, 20.0000],\n",
       "        [-0.5000, -0.5000, 40.0000]])"
      ]
     },
     "execution_count": 12,
     "metadata": {},
     "output_type": "execute_result"
    }
   ],
   "source": [
    "patch_ndc_revert_transform = get_ndc_to_patch_ndc_transform(cameras=cam,\n",
    "                                                            image_size=image_size, \n",
    "                                                            patch_size=patch_size, \n",
    "                                                            patch_center=patch_center)\n",
    "patch_ndc_points_revert = patch_ndc_revert_transform.transform_points(ndc_points)\n",
    "patch_ndc_points_revert"
   ]
  },
  {
   "cell_type": "code",
   "execution_count": 13,
   "metadata": {},
   "outputs": [
    {
     "data": {
      "text/plain": [
       "tensor([[256., 256.,  10.],\n",
       "        [128., 128.,  60.],\n",
       "        [192., 192.,  20.],\n",
       "        [224., 224.,  40.]])"
      ]
     },
     "execution_count": 13,
     "metadata": {},
     "output_type": "execute_result"
    }
   ],
   "source": [
    "ndc_to_screen_transform = get_ndc_to_screen_transform(cameras=cam, image_size=image_size, with_xyflip=True)\n",
    "# For some reason NDC to screen does wierd stuff. Would assume they do lower right corner instead of upper left\n",
    "screen_points = ndc_to_screen_transform.transform_points(ndc_points)\n",
    "screen_points\n",
    "\n"
   ]
  },
  {
   "cell_type": "code",
   "execution_count": 14,
   "metadata": {},
   "outputs": [
    {
     "data": {
      "text/plain": [
       "tensor([[11.5470, 11.5470, 10.0000],\n",
       "        [34.6410, 34.6410, 60.0000],\n",
       "        [17.3205, 17.3205, 20.0000],\n",
       "        [40.4145, 40.4145, 40.0000]])"
      ]
     },
     "execution_count": 14,
     "metadata": {},
     "output_type": "execute_result"
    }
   ],
   "source": [
    "world_points = cam.unproject_points(screen_points) # screen --> world\n",
    "world_points"
   ]
  },
  {
   "cell_type": "code",
   "execution_count": 15,
   "metadata": {},
   "outputs": [
    {
     "data": {
      "text/plain": [
       "tensor([[-2.5600e+02, -2.5600e+02,  1.0000e-01],\n",
       "        [-1.2800e+02, -1.2800e+02,  1.6667e-02],\n",
       "        [-1.9200e+02, -1.9200e+02,  5.0000e-02],\n",
       "        [-2.2400e+02, -2.2400e+02,  2.5000e-02]])"
      ]
     },
     "execution_count": 15,
     "metadata": {},
     "output_type": "execute_result"
    }
   ],
   "source": [
    "screen_points_revert = cam.transform_points_screen(world_points)\n",
    "screen_points_revert"
   ]
  },
  {
   "cell_type": "code",
   "execution_count": 16,
   "metadata": {},
   "outputs": [
    {
     "data": {
      "text/plain": [
       "tensor([[3.0000, 3.0000, 0.1000],\n",
       "        [2.0000, 2.0000, 0.0167],\n",
       "        [2.5000, 2.5000, 0.0500],\n",
       "        [2.7500, 2.7500, 0.0250]])"
      ]
     },
     "execution_count": 16,
     "metadata": {},
     "output_type": "execute_result"
    }
   ],
   "source": [
    "ndc_points_revert = cam.transform_points_ndc(world_points)\n",
    "ndc_points_revert"
   ]
  }
 ],
 "metadata": {
  "kernelspec": {
   "display_name": "gen-detection",
   "language": "python",
   "name": "python3"
  },
  "language_info": {
   "codemirror_mode": {
    "name": "ipython",
    "version": 3
   },
   "file_extension": ".py",
   "mimetype": "text/x-python",
   "name": "python",
   "nbconvert_exporter": "python",
   "pygments_lexer": "ipython3",
   "version": "3.10.14"
  }
 },
 "nbformat": 4,
 "nbformat_minor": 2
}
