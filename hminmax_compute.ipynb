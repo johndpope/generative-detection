{
 "cells": [
  {
   "cell_type": "code",
   "execution_count": 1,
   "metadata": {},
   "outputs": [],
   "source": [
    "import pickle as pkl\n",
    "import os\n",
    "import numpy as np"
   ]
  },
  {
   "cell_type": "code",
   "execution_count": 2,
   "metadata": {},
   "outputs": [],
   "source": [
    "dataset_stats_path = \"dataset_stats/combined/all.pkl\""
   ]
  },
  {
   "cell_type": "code",
   "execution_count": 5,
   "metadata": {},
   "outputs": [],
   "source": [
    "with open(dataset_stats_path, \"rb\") as f:\n",
    "    dataset_stats = pkl.load(f)\n",
    "    \n",
    "L_MIN = 0.5 \n",
    "L_MAX = 3.0"
   ]
  },
  {
   "cell_type": "code",
   "execution_count": 26,
   "metadata": {},
   "outputs": [],
   "source": [
    "hmin_dict = {}\n",
    "hmax_dict = {}\n",
    "for class_name in dataset_stats.keys():\n",
    "    class_stats = dataset_stats[class_name] # mean, logvar\n",
    "    height_stats = class_stats['h']\n",
    "    mean = height_stats[0]\n",
    "    std = np.sqrt(np.exp(height_stats[1]))\n",
    "\n",
    "    new_H_MIN = mean - 2*std\n",
    "    new_H_MAX = mean + 2*std\n",
    "    hmin_dict[class_name] = new_H_MIN\n",
    "    hmax_dict[class_name] = new_H_MAX\n"
   ]
  },
  {
   "cell_type": "code",
   "execution_count": 29,
   "metadata": {},
   "outputs": [],
   "source": [
    "# save the new hmin and hmax dicts into a pkl file\n",
    "h_minmax_dir = \"dataset_stats/combined/\"\n",
    "os.makedirs(h_minmax_dir, exist_ok=True)\n",
    "hmin_path = os.path.join(h_minmax_dir, \"hmin.pkl\")\n",
    "hmax_path = os.path.join(h_minmax_dir, \"hmax.pkl\")\n",
    "with open(hmin_path, \"wb\") as f:\n",
    "    pkl.dump(hmin_dict, f)\n",
    "with open(hmax_path, \"wb\") as f:\n",
    "    pkl.dump(hmax_dict, f)"
   ]
  }
 ],
 "metadata": {
  "kernelspec": {
   "display_name": "inrdetect4",
   "language": "python",
   "name": "python3"
  },
  "language_info": {
   "codemirror_mode": {
    "name": "ipython",
    "version": 3
   },
   "file_extension": ".py",
   "mimetype": "text/x-python",
   "name": "python",
   "nbconvert_exporter": "python",
   "pygments_lexer": "ipython3",
   "version": "3.10.14"
  }
 },
 "nbformat": 4,
 "nbformat_minor": 2
}
